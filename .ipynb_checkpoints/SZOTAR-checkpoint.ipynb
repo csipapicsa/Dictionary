{
 "cells": [
  {
   "cell_type": "code",
   "execution_count": 127,
   "id": "f9dc0ee8",
   "metadata": {},
   "outputs": [
    {
     "name": "stdout",
     "output_type": "stream",
     "text": [
      "*** get the sheet\n",
      " How many words? \n",
      "2\n",
      " how many possible answers? \n",
      "2\n",
      "*** making the quiz\n"
     ]
    }
   ],
   "source": [
    "#### imnport\n",
    "import main as m\n",
    "import importlib as r\n",
    "# get the sheets\n",
    "print(\"*** get the sheet\")\n",
    "sheet = m.googleDocReadIn()\n",
    "# user inputs - how many questions, how many possible answers\n",
    "print(\" How many words? \")\n",
    "numberOfQuestions = int(input())\n",
    "print(\" how many possible answers? \")\n",
    "numberWrongAnswers = int(input())\n",
    "print(\"*** making the quiz\")\n",
    "records_df, wordsStat, words_array, meaning_array, numbersQuiz, stats_data, stat = m.wordsSheet(sheet)"
   ]
  },
  {
   "cell_type": "code",
   "execution_count": 129,
   "id": "e2bee4d7",
   "metadata": {},
   "outputs": [
    {
     "data": {
      "text/plain": [
       "<module 'main' from 'D:\\\\DICTIONARY\\\\Dictionary\\\\main.py'>"
      ]
     },
     "execution_count": 129,
     "metadata": {},
     "output_type": "execute_result"
    }
   ],
   "source": [
    "r.reload(m)"
   ]
  },
  {
   "cell_type": "code",
   "execution_count": 128,
   "id": "860afbbd",
   "metadata": {},
   "outputs": [
    {
     "name": "stdout",
     "output_type": "stream",
     "text": [
      "inevitable\n",
      "1  -  Fogyasztás\n",
      "2  -  elkerülhetetlen\n",
      "3  -  sűrűség\n",
      "3\n",
      "Correct answer:  elkerülhetetlen\n",
      "Reputation\n",
      "1  -  határozza meg\n",
      "2  -  névleges / fiktív\n",
      "3  -  Hírnév, megitélés\n",
      "3\n",
      "Good answer! \n",
      "--------------\n"
     ]
    },
    {
     "ename": "NameError",
     "evalue": "name 'stat' is not defined",
     "output_type": "error",
     "traceback": [
      "\u001b[1;31m---------------------------------------------------------------------------\u001b[0m",
      "\u001b[1;31mNameError\u001b[0m                                 Traceback (most recent call last)",
      "\u001b[1;32m~\\AppData\\Local\\Temp/ipykernel_9672/3438869993.py\u001b[0m in \u001b[0;36m<module>\u001b[1;34m\u001b[0m\n\u001b[0;32m     77\u001b[0m \u001b[1;33m\u001b[0m\u001b[0m\n\u001b[0;32m     78\u001b[0m \u001b[1;31m# update the sheet\u001b[0m\u001b[1;33m\u001b[0m\u001b[1;33m\u001b[0m\u001b[1;33m\u001b[0m\u001b[0m\n\u001b[1;32m---> 79\u001b[1;33m \u001b[0mstat\u001b[0m\u001b[1;33m.\u001b[0m\u001b[0mupdate\u001b[0m\u001b[1;33m(\u001b[0m\u001b[1;33m[\u001b[0m\u001b[0mwordsStat\u001b[0m\u001b[1;33m.\u001b[0m\u001b[0mcolumns\u001b[0m\u001b[1;33m.\u001b[0m\u001b[0mvalues\u001b[0m\u001b[1;33m.\u001b[0m\u001b[0mtolist\u001b[0m\u001b[1;33m(\u001b[0m\u001b[1;33m)\u001b[0m\u001b[1;33m]\u001b[0m \u001b[1;33m+\u001b[0m \u001b[0mwordsStat\u001b[0m\u001b[1;33m.\u001b[0m\u001b[0mvalues\u001b[0m\u001b[1;33m.\u001b[0m\u001b[0mtolist\u001b[0m\u001b[1;33m(\u001b[0m\u001b[1;33m)\u001b[0m\u001b[1;33m)\u001b[0m\u001b[1;33m\u001b[0m\u001b[1;33m\u001b[0m\u001b[0m\n\u001b[0m\u001b[0;32m     80\u001b[0m \u001b[1;33m\u001b[0m\u001b[0m\n\u001b[0;32m     81\u001b[0m \u001b[0mprint\u001b[0m\u001b[1;33m(\u001b[0m\u001b[1;34m\"Type something to exit\"\u001b[0m\u001b[1;33m)\u001b[0m\u001b[1;33m\u001b[0m\u001b[1;33m\u001b[0m\u001b[0m\n",
      "\u001b[1;31mNameError\u001b[0m: name 'stat' is not defined"
     ]
    }
   ],
   "source": [
    "def questions(words_array, meaning_array, numbersQuiz, length=numberOfQuestions):\n",
    "    quizNumbers = m.random.choices(numbersQuiz, k=numberOfQuestions)\n",
    "    quizQ = []\n",
    "    remainMeanings = meaning_array.copy()\n",
    "    remainMeanings = remainMeanings.tolist()\n",
    "    for i in quizNumbers:\n",
    "        #print(words_array[i], meaning_array[i])\n",
    "        quizQ.append([words_array[i],meaning_array[i]])\n",
    "        remainMeanings.remove(meaning_array[i])\n",
    "    return quizQ, remainMeanings\n",
    "    \n",
    "quizQ, possibleWrongAnswers = questions(words_array, meaning_array, numbersQuiz)\n",
    "\n",
    "def quizF (quizQ, possibleWrongAnswers,numberWrongAnswers):\n",
    "    for i in quizQ:\n",
    "        question = i[0]\n",
    "        goodAnswer = i[1]\n",
    "        # define x wrong answer\n",
    "        #11print(\"-------- quizF \", question, goodAnswer)\n",
    "        wrongAnswers = m.random.choices(possibleWrongAnswers, k=numberWrongAnswers)\n",
    "        mapAnswers(question, goodAnswer, wrongAnswers, numberWrongAnswers)\n",
    "        # print(question, goodAnswer, \" ::: wrong ones ::: \", wrongAnswers)\n",
    "        \n",
    "def mapAnswers(question, goodAnswer, wrongAnswers, numberWrongAnswers):\n",
    "    q = []\n",
    "    q.append(goodAnswer)\n",
    "    dicT = {}\n",
    "    #print(\"Q: \", question, \" A: \", goodAnswer)\n",
    "    ######## until here it is good\n",
    "    for i in wrongAnswers:\n",
    "        q.append(i)\n",
    "    m.random.shuffle(q)\n",
    "    #print(\"## q is this: \", q)\n",
    "    n = range(1,numberWrongAnswers+2)\n",
    "    ######## until here it is goodŰ\n",
    "    for n, a in zip(n, q):\n",
    "        dicT[n] = a\n",
    "    \n",
    "    answeringF(dicT,goodAnswer, question)\n",
    "    return 0\n",
    "    \n",
    "def answeringF(dicT, goodAnswer, question):\n",
    "    print(question)\n",
    "    # say it\n",
    "    m.speak(question)\n",
    "    \n",
    "    # print the answers\n",
    "    for i in dicT:\n",
    "        print(i,\" - \", dicT[i])\n",
    "    try:\n",
    "        ans = int(input())\n",
    "    except KeyError:\n",
    "        print(\"::: again:::: \")\n",
    "    if dicT[ans] == goodAnswer:\n",
    "        print(\"Good answer! \")\n",
    "        print(\"--------------\")\n",
    "        goodAnswersDict[question] = int(m.datetime.datetime.now().timestamp())\n",
    "    else:\n",
    "        # wrong answer\n",
    "        wrongAnswersDict[question] = int(m.datetime.datetime.now().timestamp())\n",
    "        print(\"Correct answer: \", goodAnswer)\n",
    "        m.webbrowser.open('https://www.collinsdictionary.com/dictionary/english/'+question)\n",
    "        # print(\"::: MAPPED GOOD ANSWER IS: \", )\n",
    "        # print(\" ::: DICT :::: \", dicT)\n",
    "        \n",
    "# decleare an empty viaraible for the wrong answers\n",
    "wrongAnswersDict = {}\n",
    "goodAnswersDict = {}\n",
    "\n",
    "quizF(quizQ, possibleWrongAnswers, numberWrongAnswers)\n",
    "\n",
    "# append wrong and good answers\n",
    "for i in wrongAnswersDict:\n",
    "    wordsStat = wordsStat.append({'Word': i, \"NOK\":wrongAnswersDict[i], \"OK\":\"\" }, ignore_index=True)\n",
    "for i in goodAnswersDict:\n",
    "    wordsStat = wordsStat.append({'Word': i, \"OK\":goodAnswersDict[i], \"NOK\":\"\" }, ignore_index=True)\n",
    "\n",
    "# update the sheet\n",
    "stat.update([wordsStat.columns.values.tolist()] + wordsStat.values.tolist())\n",
    "\n",
    "print(\"Type something to exit\")\n",
    "int(input())"
   ]
  },
  {
   "cell_type": "code",
   "execution_count": null,
   "id": "ef7dd2eb",
   "metadata": {},
   "outputs": [],
   "source": []
  }
 ],
 "metadata": {
  "kernelspec": {
   "display_name": "Python 3 (ipykernel)",
   "language": "python",
   "name": "python3"
  },
  "language_info": {
   "codemirror_mode": {
    "name": "ipython",
    "version": 3
   },
   "file_extension": ".py",
   "mimetype": "text/x-python",
   "name": "python",
   "nbconvert_exporter": "python",
   "pygments_lexer": "ipython3",
   "version": "3.9.6"
  }
 },
 "nbformat": 4,
 "nbformat_minor": 5
}
