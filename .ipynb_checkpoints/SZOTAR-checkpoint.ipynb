{
 "cells": [
  {
   "cell_type": "code",
   "execution_count": 42,
   "id": "9f0cdb41",
   "metadata": {},
   "outputs": [
    {
     "name": "stdout",
     "output_type": "stream",
     "text": [
      "*** get the sheet\n",
      " How many words? \n",
      "5\n",
      " how many possible answers? \n",
      "5\n",
      "*** making the quiz\n"
     ]
    }
   ],
   "source": [
    "#### import\n",
    "import main as mm\n",
    "import importlib as r\n",
    "# get the sheets\n",
    "print(\"*** get the sheet\")\n",
    "sheet = mm.googleDocReadIn()\n",
    "# user inputs - how many questions, how many possible answers\n",
    "print(\" How many words? \")\n",
    "numberOfQuestions = int(input())\n",
    "print(\" how many possible answers? \")\n",
    "numberWrongAnswers = int(input())\n",
    "print(\"*** making the quiz\")\n",
    "records_df, wordsStat, words_array, meaning_array, stats_data, stat, help_array = mm.wordsSheet(sheet)\n",
    "# handle empty cells in meaning and help arrays\n",
    "meaning_array, help_array= mm.emptyCellsHandler(words_array, meaning_array, help_array)\n",
    "# get rid of known words\n",
    "daysInt = 62\n",
    "words_array, meaning_array, help_array, numbersQuiz = mm.deleteKnownWords(wordsStat, words_array, meaning_array, help_array, days=daysInt)\n",
    "# make quiz\n",
    "quizQ, possibleWrongAnswers = mm.questions(words_array, meaning_array, help_array, numbersQuiz, length=numberOfQuestions)"
   ]
  },
  {
   "cell_type": "code",
   "execution_count": 44,
   "id": "e63e9021",
   "metadata": {},
   "outputs": [
    {
     "name": "stdout",
     "output_type": "stream",
     "text": [
      "12\n",
      "Invalid input\n",
      "12\n",
      "Invalid input\n",
      "sdffsef\n",
      "Invalid input\n",
      "12\n",
      "Invalid input\n",
      "3\n"
     ]
    },
    {
     "data": {
      "text/plain": [
       "3"
      ]
     },
     "execution_count": 44,
     "metadata": {},
     "output_type": "execute_result"
    }
   ],
   "source": [
    "mm.userInputValidator(6)"
   ]
  },
  {
   "cell_type": "code",
   "execution_count": 41,
   "id": "72177565",
   "metadata": {},
   "outputs": [
    {
     "ename": "NameError",
     "evalue": "name 'r' is not defined",
     "output_type": "error",
     "traceback": [
      "\u001b[1;31m---------------------------------------------------------------------------\u001b[0m",
      "\u001b[1;31mNameError\u001b[0m                                 Traceback (most recent call last)",
      "\u001b[1;32m~\\AppData\\Local\\Temp/ipykernel_10092/3885532348.py\u001b[0m in \u001b[0;36m<module>\u001b[1;34m\u001b[0m\n\u001b[1;32m----> 1\u001b[1;33m \u001b[0mr\u001b[0m\u001b[1;33m.\u001b[0m\u001b[0mreload\u001b[0m\u001b[1;33m(\u001b[0m\u001b[0mmm\u001b[0m\u001b[1;33m)\u001b[0m\u001b[1;33m\u001b[0m\u001b[1;33m\u001b[0m\u001b[0m\n\u001b[0m",
      "\u001b[1;31mNameError\u001b[0m: name 'r' is not defined"
     ]
    }
   ],
   "source": [
    "r.reload(mm)"
   ]
  },
  {
   "cell_type": "code",
   "execution_count": 51,
   "id": "177b2495",
   "metadata": {},
   "outputs": [],
   "source": [
    "###################################################### \n",
    "######################################################\n",
    "############### TODO: SOLVE THE PROBLEM OF THE HELP ARRAY ( BASED ON THE INDEXIES)"
   ]
  },
  {
   "cell_type": "code",
   "execution_count": null,
   "id": "ff2ac298",
   "metadata": {},
   "outputs": [],
   "source": [
    "def quizF (quizQ, possibleWrongAnswers,numberWrongAnswers):\n",
    "    for i in quizQ:\n",
    "        question = i[0]\n",
    "        goodAnswer = i[1]\n",
    "        helP = i[2]\n",
    "        # define x wrong answer\n",
    "        # print(\"-------- quizF \", question, goodAnswer)\n",
    "        wrongAnswers = mm.random.choices(possibleWrongAnswers, k=numberWrongAnswers)\n",
    "        mapAnswers(question, goodAnswer, helP, wrongAnswers, numberWrongAnswers)\n",
    "        # print(question, goodAnswer, \" ::: wrong ones ::: \", wrongAnswers)\n",
    "        \n",
    "def mapAnswers(question, goodAnswer, helP, wrongAnswers, numberWrongAnswers):\n",
    "    q = [] #variable for all answers\n",
    "    q.append(goodAnswer)\n",
    "    dicT = {}\n",
    "    # print(\"Q: \", question, \" A: \", goodAnswer, \" H: \", helP)\n",
    "    ######## until here it is good\n",
    "    for i in wrongAnswers:\n",
    "        q.append(i)\n",
    "    mm.random.shuffle(q)\n",
    "    #print(\"## q is this: \", q)\n",
    "    n = range(1,numberWrongAnswers+2)\n",
    "    ######## until here it is good\n",
    "    for n, a in zip(n, q):\n",
    "        # n=number, a=corresponding answer\n",
    "        # print(n, \"  \", a)\n",
    "        dicT[n] = a\n",
    "    \n",
    "    answeringF(dicT,goodAnswer, helP, question) ### unlock it after the help is done\n",
    "    return None\n",
    "\n",
    "\n",
    "def goodAnswerDictWrite(question):\n",
    "    print(\"Good answer! \")\n",
    "    print(\"--------------\")\n",
    "    goodAnswersDict[question] = int(mm.datetime.datetime.now().timestamp())\n",
    "    return \n",
    "\n",
    "def goodAnswerChecker(dicT, ans, goodAnswer):\n",
    "    if dicT[ans] == goodAnswer:\n",
    "        return True\n",
    "    else:\n",
    "        return False\n",
    "    \n",
    "def answeringF(dicT, goodAnswer, helP, question):\n",
    "    print(question)\n",
    "    # say it\n",
    "    mm.speak(question)\n",
    "    # print(helP)\n",
    "    # print the answers\n",
    "    for i in dicT:\n",
    "        print(i,\" - \", dicT[i])\n",
    "    # answer\n",
    "    ans = mm.userInputValidator(numberWrongAnswers)\n",
    "    if goodAnswerChecker(dicT, ans, goodAnswer): #if the answer is good\n",
    "        goodAnswerDictWrite(question)\n",
    "    else:\n",
    "        # wrong answer, print help\n",
    "        print(\"### Wrong answer, help: \", helP)\n",
    "        ans = mm.userInputValidator(numberWrongAnswers)\n",
    "        if goodAnswerChecker(dicT, ans, goodAnswer):\n",
    "            goodAnswerDictWrite(question)\n",
    "        if goodAnswerChecker(dicT, ans, goodAnswer) == False:\n",
    "            wrongAnswersDict[question] = int(mm.datetime.datetime.now().timestamp())\n",
    "            print(\"Correct answer: \", goodAnswer)\n",
    "            mm.webbrowser.open('https://www.collinsdictionary.com/dictionary/english/'+question)\n",
    "            # print(\"::: MAPPED GOOD ANSWER IS: \", )\n",
    "            # print(\" ::: DICT :::: \", dicT)\n",
    "            \n",
    "# decleare an empty viaraible for the wrong answers\n",
    "wrongAnswersDict = {}\n",
    "goodAnswersDict = {}\n",
    "\n",
    "quizF(quizQ, possibleWrongAnswers, numberWrongAnswers)\n",
    "\n",
    "# append wrong and good answers\n",
    "for i in wrongAnswersDict:\n",
    "    wordsStat = wordsStat.append({'Word': i, \"NOK\":wrongAnswersDict[i], \"OK\":\"\" }, ignore_index=True)\n",
    "for i in goodAnswersDict:\n",
    "    wordsStat = wordsStat.append({'Word': i, \"OK\":goodAnswersDict[i], \"NOK\":\"\" }, ignore_index=True)\n",
    "\n",
    "# update the sheet\n",
    "stat.update([wordsStat.columns.values.tolist()] + wordsStat.values.tolist())"
   ]
  }
 ],
 "metadata": {
  "kernelspec": {
   "display_name": "Python 3 (ipykernel)",
   "language": "python",
   "name": "python3"
  },
  "language_info": {
   "codemirror_mode": {
    "name": "ipython",
    "version": 3
   },
   "file_extension": ".py",
   "mimetype": "text/x-python",
   "name": "python",
   "nbconvert_exporter": "python",
   "pygments_lexer": "ipython3",
   "version": "3.9.6"
  }
 },
 "nbformat": 4,
 "nbformat_minor": 5
}
